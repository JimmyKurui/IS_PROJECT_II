{
  "nbformat": 4,
  "nbformat_minor": 0,
  "metadata": {
    "colab": {
      "provenance": [],
      "authorship_tag": "ABX9TyO5c5urk5kfkd8Z/49Pp7Nj"
    },
    "kernelspec": {
      "name": "python3",
      "display_name": "Python 3"
    },
    "language_info": {
      "name": "python"
    }
  },
  "cells": [
    {
      "cell_type": "markdown",
      "source": [
        "**Water Use Prediction Model for Nairobi County**\n",
        "\n",
        "This ANN model utilizes data acquired from Nairobi Water and Sewerage Corporation (NWSC), the county's main supplier and distributer of piped water to predict short term water consumption rates in different residential areas"
      ],
      "metadata": {
        "id": "7_wfsJv-vm-X"
      }
    },
    {
      "cell_type": "code",
      "execution_count": null,
      "metadata": {
        "id": "LuYdscQ-vj59"
      },
      "outputs": [],
      "source": []
    }
  ]
}